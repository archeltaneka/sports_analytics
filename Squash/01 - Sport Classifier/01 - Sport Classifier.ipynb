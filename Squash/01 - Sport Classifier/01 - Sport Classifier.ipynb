{
 "cells": [
  {
   "cell_type": "markdown",
   "metadata": {},
   "source": [
    "## Imports"
   ]
  },
  {
   "cell_type": "code",
   "execution_count": 1,
   "metadata": {},
   "outputs": [
    {
     "name": "stderr",
     "output_type": "stream",
     "text": [
      "Using TensorFlow backend.\n"
     ]
    }
   ],
   "source": [
    "# set the matplotlib backend so figures can be saved in the background\n",
    "import matplotlib\n",
    "matplotlib.use(\"Agg\")\n",
    "\n",
    "# import the necessary packages\n",
    "from keras.preprocessing.image import ImageDataGenerator\n",
    "from keras.layers.pooling import AveragePooling2D\n",
    "from keras.applications import ResNet50\n",
    "from keras.layers.core import Dropout\n",
    "from keras.layers.core import Flatten\n",
    "from keras.layers.core import Dense\n",
    "from keras.layers import BatchNormalization, Activation\n",
    "from keras.layers import Input\n",
    "from keras.models import Model\n",
    "from keras.initializers import glorot_uniform\n",
    "from keras.optimizers import SGD, Adam\n",
    "from keras import regularizers\n",
    "from sklearn.preprocessing import LabelBinarizer\n",
    "from sklearn.model_selection import train_test_split\n",
    "from sklearn.metrics import classification_report\n",
    "from imutils import paths # Se usa para levantar a una lista todas la imagenes de un path\n",
    "import matplotlib.pyplot as plt\n",
    "import numpy as np\n",
    "import pandas as pd\n",
    "from keras.models import load_model\n",
    "from collections import deque\n",
    "import argparse\n",
    "import pickle\n",
    "import argparse\n",
    "import pickle\n",
    "import cv2\n",
    "import os\n",
    "from datetime import datetime"
   ]
  },
  {
   "cell_type": "code",
   "execution_count": 2,
   "metadata": {},
   "outputs": [],
   "source": [
    "def make_dir(directory):\n",
    "        if os.path.exists(directory):\n",
    "            shutil.rmtree(directory)\n",
    "        os.makedirs(directory)"
   ]
  },
  {
   "cell_type": "markdown",
   "metadata": {},
   "source": [
    "## Arguments"
   ]
  },
  {
   "cell_type": "code",
   "execution_count": 3,
   "metadata": {},
   "outputs": [],
   "source": [
    "path_dataset = '/media/sf_Google_Drive/LudisAI/01 - Sport Classifier/Datasets/'\n",
    "path_labels = '/media/sf_Google_Drive/LudisAI/01 - Sport Classifier/'\n",
    "path_plots = '/media/sf_Google_Drive/LudisAI/01 - Sport Classifier/Metricas/'\n",
    "path_model = '/media/sf_Google_Drive/LudisAI/01 - Sport Classifier/'\n",
    "\n",
    "seed = 1984"
   ]
  },
  {
   "cell_type": "markdown",
   "metadata": {},
   "source": [
    "## Create Dataset"
   ]
  },
  {
   "cell_type": "code",
   "execution_count": null,
   "metadata": {},
   "outputs": [],
   "source": [
    "# initialize the set of labels from the sports activity dataset we are\n",
    "# going to train our network on\n",
    "LABELS = set([\"badminton\", \"tennis\", \"squash\", \"table_tennis\", \"padel\", \"otros\"])\n",
    "\n",
    "# grab the list of images in our dataset directory, then initialize\n",
    "# the list of data (i.e., images) and class images\n",
    "print(\"[INFO] loading images...\")\n",
    "data = []\n",
    "labels = []\n",
    "\n",
    "# loop over the image paths for each label\n",
    "for sport_label in LABELS:\n",
    "    imagePaths = list(paths.list_images(path_dataset + sport_label))\n",
    "    count = 0\n",
    "    tot_count = len(imagePaths)\n",
    "    print('Loading images for ', sport_label)\n",
    "    for imagePath in imagePaths:\n",
    "        # load the image, convert it to RGB channel ordering, and resize\n",
    "        # it to be a fixed 224x224 pixels, ignoring aspect ratio\n",
    "        image = cv2.imread(imagePath)\n",
    "        image = cv2.cvtColor(image, cv2.COLOR_BGR2RGB)\n",
    "        image = cv2.resize(image, (224, 224))\n",
    "\n",
    "        # update the data and labels lists, respectively\n",
    "        data.append(image)\n",
    "        if sport_label == 'squash':\n",
    "            labels.append(sport_label)\n",
    "        else:\n",
    "            labels.append('no_squash')\n",
    "        \n",
    "        deciles = [int(x) for x in np.linspace(0,1,11)*tot_count]\n",
    "        if count in deciles:\n",
    "            print('Imagenes procesadas: {} de {} ({}%)'.format(count, tot_count, np.round(count*100/tot_count, 0)))\n",
    "        count += 1"
   ]
  },
  {
   "cell_type": "code",
   "execution_count": null,
   "metadata": {},
   "outputs": [],
   "source": [
    "## Export Dataset\n",
    "np.savez(path_dataset + 'sports_data_binario.npz', np.array(data))\n",
    "np.savez(path_dataset + 'sports_data_labels_binario.npz', np.array(labels))"
   ]
  },
  {
   "cell_type": "markdown",
   "metadata": {},
   "source": [
    "### Load Dataset and Train/Test Split"
   ]
  },
  {
   "cell_type": "code",
   "execution_count": null,
   "metadata": {},
   "outputs": [],
   "source": [
    "data = np.load(path_dataset + 'sports_data_binario.npz')['arr_0']\n",
    "labels = np.load(path_dataset + 'sports_data_labels_binario.npz')['arr_0']"
   ]
  },
  {
   "cell_type": "code",
   "execution_count": null,
   "metadata": {},
   "outputs": [],
   "source": [
    "labels.shape"
   ]
  },
  {
   "cell_type": "code",
   "execution_count": null,
   "metadata": {},
   "outputs": [],
   "source": [
    "# perform one-hot encoding on the labels\n",
    "lb = LabelBinarizer()\n",
    "labels = lb.fit_transform(labels)\n",
    "# partition the data into training and testing splits using 75% of\n",
    "# the data for training and the remaining 25% for testing\n",
    "X_train, X_test, Y_train, Y_test = train_test_split(data, labels, test_size=0.25, \n",
    "                                                    stratify=labels, random_state=seed)"
   ]
  },
  {
   "cell_type": "code",
   "execution_count": null,
   "metadata": {},
   "outputs": [],
   "source": [
    "print(X_train.shape)\n",
    "print(Y_train.shape)"
   ]
  },
  {
   "cell_type": "code",
   "execution_count": null,
   "metadata": {},
   "outputs": [],
   "source": [
    "print('Registros Train: ', len(X_train))\n",
    "print('Registros Test: ', len(X_test))"
   ]
  },
  {
   "cell_type": "code",
   "execution_count": null,
   "metadata": {},
   "outputs": [],
   "source": [
    "## Agregado Imagenes test (sacadas con baja calidad)\n",
    "imagePaths = list(paths.list_images(path_dataset + 'fotos_test'))\n",
    "\n",
    "test_data = []\n",
    "test_labels = []\n",
    "\n",
    "for imagePath in imagePaths:\n",
    "    # load the image, convert it to RGB channel ordering, and resize\n",
    "    # it to be a fixed 224x224 pixels, ignoring aspect ratio\n",
    "    image = cv2.imread(imagePath)\n",
    "    image = cv2.cvtColor(image, cv2.COLOR_BGR2RGB)\n",
    "    image = cv2.resize(image, (224, 224))\n",
    "\n",
    "    # update the data and labels lists, respectively\n",
    "    test_data.append(image)\n",
    "    test_labels.append('squash')"
   ]
  },
  {
   "cell_type": "code",
   "execution_count": null,
   "metadata": {},
   "outputs": [],
   "source": [
    "X_test = np.append(X_test, test_data, axis=0)\n",
    "print(X_test.shape)"
   ]
  },
  {
   "cell_type": "code",
   "execution_count": null,
   "metadata": {},
   "outputs": [],
   "source": [
    "test_labels = lb.fit_transform(test_labels)\n",
    "Y_test = np.append(Y_test, test_labels, axis=0)\n",
    "print(Y_test.shape)"
   ]
  },
  {
   "cell_type": "code",
   "execution_count": null,
   "metadata": {},
   "outputs": [],
   "source": [
    "print('Registros Train: ', len(X_train))\n",
    "print('Registros Test: ', len(X_test))"
   ]
  },
  {
   "cell_type": "code",
   "execution_count": null,
   "metadata": {},
   "outputs": [],
   "source": [
    "## Export Train/Test Sets\n",
    "np.savez(path_dataset + 'X_train_squash.npz', X_train)\n",
    "np.savez(path_dataset + 'X_test_squash.npz', X_test)\n",
    "np.savez(path_dataset + 'Y_train_squash.npz', Y_train)\n",
    "np.savez(path_dataset + 'Y_test_squash.npz', Y_test)"
   ]
  },
  {
   "cell_type": "code",
   "execution_count": null,
   "metadata": {},
   "outputs": [],
   "source": [
    "X_train = np.load(path_dataset + 'X_train_squash.npz')\n",
    "Y_train = np.load(path_dataset + 'Y_train_squash.npz')\n",
    "X_test = np.load(path_dataset + 'X_test_squash.npz')\n",
    "Y_test = np.load(path_dataset + 'Y_test_squash.npz')"
   ]
  },
  {
   "cell_type": "code",
   "execution_count": null,
   "metadata": {},
   "outputs": [],
   "source": [
    "print(X_test.shape)\n",
    "print(Y_test.shape)"
   ]
  },
  {
   "cell_type": "markdown",
   "metadata": {},
   "source": [
    "## Data Augmentation"
   ]
  },
  {
   "cell_type": "code",
   "execution_count": null,
   "metadata": {},
   "outputs": [],
   "source": [
    "# initialize the training data augmentation object\n",
    "trainAug = ImageDataGenerator(rotation_range=30,\n",
    "                              zoom_range=0.15,\n",
    "                              width_shift_range=0.2,\n",
    "                              height_shift_range=0.2,\n",
    "                              shear_range=0.15,\n",
    "                              horizontal_flip=True,\n",
    "                              fill_mode=\"nearest\")\n",
    "\n",
    "# initialize the validation/testing data augmentation object (which\n",
    "# we'll be adding mean subtraction to)\n",
    "valAug = ImageDataGenerator()\n",
    "\n",
    "# define the ImageNet mean subtraction (in RGB order) and set the\n",
    "# the mean subtraction value for each of the data augmentation\n",
    "# objects\n",
    "mean = np.array([123.68, 116.779, 103.939], dtype=\"float32\")\n",
    "trainAug.mean = mean\n",
    "valAug.mean = mean"
   ]
  },
  {
   "cell_type": "markdown",
   "metadata": {},
   "source": [
    "## Model"
   ]
  },
  {
   "cell_type": "code",
   "execution_count": null,
   "metadata": {},
   "outputs": [],
   "source": [
    "# load the ResNet-50 network, ensuring the head FC layer sets are left\n",
    "# off\n",
    "baseModel = ResNet50(weights=\"imagenet\", include_top=False, input_tensor=Input(shape=(224, 224, 3)))\n",
    "\n",
    "# construct the head of the model that will be placed on top of the\n",
    "# the base model\n",
    "headModel = baseModel.output\n",
    "headModel = AveragePooling2D(pool_size=(7, 7))(headModel)\n",
    "headModel = Flatten(name=\"flatten\")(headModel)\n",
    "headModel = Dense(512, use_bias=False)(headModel)#, kernel_initializer=glorot_uniform(seed=seed)\n",
    "headModel = BatchNormalization()(headModel)\n",
    "headModel = Activation(\"relu\")(headModel)\n",
    "headModel = Dropout(0.5)(headModel)\n",
    "headModel = Dense(1, activation=\"sigmoid\")(headModel) #, kernel_initializer=glorot_uniform(seed=seed)\n",
    "\n",
    "# place the head FC model on top of the base model (this will become\n",
    "# the actual model we will train)\n",
    "model = Model(inputs=baseModel.input, outputs=headModel)\n",
    "\n",
    "# loop over all layers in the base model and freeze them so they will\n",
    "# *not* be updated during the training process\n",
    "for layer in baseModel.layers:\n",
    "    layer.trainable = False"
   ]
  },
  {
   "cell_type": "code",
   "execution_count": null,
   "metadata": {},
   "outputs": [],
   "source": [
    "with open(path_model + 'model_summary.txt','w') as fh:\n",
    "    # Pass the file handle in as a lambda function to make it callable\n",
    "    model.summary(print_fn=lambda x: fh.write(x + '\\n'))"
   ]
  },
  {
   "cell_type": "markdown",
   "metadata": {},
   "source": [
    "### Training"
   ]
  },
  {
   "cell_type": "code",
   "execution_count": null,
   "metadata": {},
   "outputs": [],
   "source": [
    "epochs = 20\n",
    "batch_size = 64"
   ]
  },
  {
   "cell_type": "code",
   "execution_count": null,
   "metadata": {
    "scrolled": false
   },
   "outputs": [],
   "source": [
    "start_time = datetime.now()\n",
    "# compile our model (this needs to be done after our setting our\n",
    "# layers to being non-trainable)\n",
    "print(\"[INFO] compiling model...\")\n",
    "#opt = Adam(learning_rate=0.0001, beta_1=0.9, beta_2=0.999, amsgrad=False)\n",
    "model.compile(loss=\"binary_crossentropy\", optimizer='adam', metrics=[\"accuracy\"])\n",
    "\n",
    "# train the head of the network for a few epochs (all other layers\n",
    "# are frozen) -- this will allow the new FC layers to start to become\n",
    "# initialized with actual \"learned\" values versus pure random\n",
    "print(\"[INFO] training head...\")\n",
    "H = model.fit_generator(trainAug.flow(X_train, Y_train, batch_size=batch_size),\n",
    "                        steps_per_epoch=len(X_train) // batch_size,\n",
    "                        validation_data=valAug.flow(X_test, Y_test),\n",
    "                        validation_steps=len(X_test) // batch_size,\n",
    "                        epochs=epochs)\n",
    "\n",
    "duration = datetime.now()-start_time\n",
    "print('Duracion: ', duration)"
   ]
  },
  {
   "cell_type": "markdown",
   "metadata": {},
   "source": [
    "### Evaluation"
   ]
  },
  {
   "cell_type": "code",
   "execution_count": null,
   "metadata": {},
   "outputs": [],
   "source": [
    "# evaluate the network\n",
    "print(\"[INFO] evaluating network...\")\n",
    "#predictions = model.predict(X_test, batch_size=batch_size)\n",
    "predictions_class = (predictions>0.5)\n",
    "print(classification_report(Y_test, predictions_class))\n",
    "\n",
    "# plot the training loss and accuracy\n",
    "N = epochs #args[\"epochs\"]\n",
    "plt.style.use(\"ggplot\")\n",
    "plt.figure()\n",
    "plt.plot(np.arange(0, N), H.history[\"loss\"], label=\"train_loss\")\n",
    "plt.plot(np.arange(0, N), H.history[\"val_loss\"], label=\"val_loss\")\n",
    "plt.plot(np.arange(0, N), H.history[\"acc\"], label=\"train_acc\")\n",
    "plt.plot(np.arange(0, N), H.history[\"val_acc\"], label=\"val_acc\")\n",
    "plt.title(\"Training Loss and Accuracy on Dataset\")\n",
    "plt.xlabel(\"Epoch #\")\n",
    "plt.ylabel(\"Loss/Accuracy\")\n",
    "plt.legend(loc=\"lower left\")\n",
    "plt.savefig(path_plots + 'loss_accuracy_squash_classifier_plot.png')"
   ]
  },
  {
   "cell_type": "code",
   "execution_count": null,
   "metadata": {},
   "outputs": [],
   "source": [
    "import pandas as pd\n",
    "metricas = pd.DataFrame(classification_report(Y_test, predictions_class, output_dict=True)).transpose()\n",
    "metricas.to_csv(path_plots + 'metrics_squash_binario.csv', sep=';', decimal='.', encoding='utf-8')"
   ]
  },
  {
   "cell_type": "markdown",
   "metadata": {},
   "source": [
    "### Model Export"
   ]
  },
  {
   "cell_type": "code",
   "execution_count": null,
   "metadata": {},
   "outputs": [],
   "source": [
    "# serialize the model to disk\n",
    "print(\"[INFO] serializing network...\")\n",
    "model.save(path_model + 'squash_classifier.h5')\n",
    "\n",
    "# serialize the label binarizer to disk\n",
    "f = open(path_model + 'label_binarizer', \"wb\")\n",
    "f.write(pickle.dumps(lb))\n",
    "f.close()"
   ]
  },
  {
   "cell_type": "markdown",
   "metadata": {},
   "source": [
    "### Video Classification"
   ]
  },
  {
   "cell_type": "code",
   "execution_count": null,
   "metadata": {},
   "outputs": [],
   "source": [
    "input_video = path_dataset + 'video_test/Ludis - Deportes Raqueta.mp4'\n",
    "output_video = path_dataset + 'video_test/Ludis - Deportes Raqueta_model_binario.mp4'"
   ]
  },
  {
   "cell_type": "code",
   "execution_count": null,
   "metadata": {},
   "outputs": [],
   "source": [
    "start_time = datetime.now()\n",
    "\n",
    "# load the trained model and label binarizer from disk\n",
    "print(\"[INFO] loading model and label binarizer...\")\n",
    "model = load_model(path_model + 'squash_classifier')\n",
    "lb = pickle.loads(open(path_model + 'label_binarizer', \"rb\").read())\n",
    "\n",
    "# initialize the image mean for mean subtraction along with the\n",
    "# predictions queue\n",
    "mean = np.array([123.68, 116.779, 103.939][::1], dtype=\"float32\")\n",
    "Q = deque(maxlen=128)\n",
    "\n",
    "# initialize the video stream, pointer to output video file, and\n",
    "# frame dimensions\n",
    "vs = cv2.VideoCapture(input_video)\n",
    "writer = None\n",
    "(W, H) = (None, None)\n",
    "\n",
    "# loop over frames from the video file stream\n",
    "while True:\n",
    "    # read the next frame from the file\n",
    "    (grabbed, frame) = vs.read()\n",
    "\n",
    "    # if the frame was not grabbed, then we have reached the end\n",
    "    # of the stream\n",
    "    if not grabbed:\n",
    "        break\n",
    "\n",
    "    # if the frame dimensions are empty, grab them\n",
    "    if W is None or H is None:\n",
    "        (H, W) = frame.shape[:2]\n",
    "\n",
    "    # clone the output frame, then convert it from BGR to RGB\n",
    "    # ordering, resize the frame to a fixed 224x224, and then\n",
    "    # perform mean subtraction\n",
    "    output = frame.copy()\n",
    "    frame = cv2.cvtColor(frame, cv2.COLOR_BGR2RGB)\n",
    "    frame = cv2.resize(frame, (224, 224)).astype(\"float32\")\n",
    "    frame -= mean\n",
    "\n",
    "    # make predictions on the frame and then update the predictions\n",
    "    # queue\n",
    "    preds = model.predict(np.expand_dims(frame, axis=0))[0]\n",
    "    Q.append(preds)\n",
    "\n",
    "    # perform prediction averaging over the current history of\n",
    "    # previous predictions\n",
    "    results = np.array(Q).mean(axis=0)\n",
    "    i = np.argmax(results)\n",
    "    label = lb.classes_[i]\n",
    "\n",
    "    # draw the activity on the output frame\n",
    "    text = \"Deporte: {}\".format(label)\n",
    "    cv2.putText(output, text, (35, 50), cv2.FONT_HERSHEY_SIMPLEX,\n",
    "        1.25, (0, 255, 0), 2)\n",
    "\n",
    "    # check if the video writer is None\n",
    "    if writer is None:\n",
    "        # initialize our video writer\n",
    "        fourcc = cv2.VideoWriter_fourcc(*\"MJPG\")\n",
    "        writer = cv2.VideoWriter(output_video, fourcc, 30,\n",
    "            (W, H), True)\n",
    "\n",
    "    # write the output frame to disk\n",
    "    writer.write(output)\n",
    "\n",
    "    # show the output image\n",
    "    #cv2.imshow(\"Output\", output)\n",
    "    key = cv2.waitKey(1) & 0xFF\n",
    "\n",
    "    # if the `q` key was pressed, break from the loop\n",
    "    if key == ord(\"q\"):\n",
    "        break\n",
    "\n",
    "# release the file pointers\n",
    "print(\"[INFO] cleaning up...\")\n",
    "writer.release()\n",
    "vs.release()\n",
    "\n",
    "duration = datetime.now()-start_time\n",
    "print('Duracion: ', duration)"
   ]
  },
  {
   "cell_type": "markdown",
   "metadata": {},
   "source": [
    "### Video Classification - Sampling Frames"
   ]
  },
  {
   "cell_type": "code",
   "execution_count": null,
   "metadata": {},
   "outputs": [],
   "source": [
    "input_video = path_dataset + 'video_test/squash_beginner.mp4'"
   ]
  },
  {
   "cell_type": "code",
   "execution_count": null,
   "metadata": {},
   "outputs": [],
   "source": [
    "start_time = datetime.now()\n",
    "\n",
    "# load the trained model and label binarizer from disk\n",
    "print(\"[INFO] loading model and label binarizer...\")\n",
    "#model = load_model(path_model + 'sports_classifier')\n",
    "#lb = pickle.loads(open(path_model + 'label_binarizer', \"rb\").read())\n",
    "\n",
    "# initialize the image mean for mean subtraction along with the\n",
    "# predictions queue\n",
    "mean = np.array([123.68, 116.779, 103.939][::1], dtype=\"float32\")\n",
    "\n",
    "# initialize the video stream, pointer to output video file, and\n",
    "# frame dimensions\n",
    "vs = cv2.VideoCapture(input_video)\n",
    "\n",
    "q_frames = int(vs.get(cv2.CAP_PROP_FRAME_COUNT))\n",
    "frames_predict = np.random.choice(range(1, q_frames), size=int(q_frames*0.25), replace=False)\n",
    "q_frames_predict = len(frames_predict)\n",
    "\n",
    "pred_list = []\n",
    "count = 0\n",
    "# loop over frames from the video file stream\n",
    "print(\"[INFO] classifying video...\")\n",
    "for frame2read in frames_predict:\n",
    "    # Set video frame to read\n",
    "    vs.set(1, frame2read)\n",
    "    \n",
    "    # Read the next frame from the file\n",
    "    (grabbed, frame) = vs.read()\n",
    "\n",
    "    # Convert frame from BGR to RGB, resize the frame to a fixed 224x224, and then\n",
    "    # perform mean subtraction\n",
    "    frame = cv2.cvtColor(frame, cv2.COLOR_BGR2RGB)\n",
    "    frame = cv2.resize(frame, (224, 224)).astype(\"float32\")\n",
    "    frame -= mean\n",
    "\n",
    "    # Make predictions on the frame and then update the predictions list\n",
    "    # expand_dims con axis=0 agrega la dimension channels_first\n",
    "    preds = model.predict(np.expand_dims(frame, axis=0))[0]\n",
    "    pred_list.append(preds)\n",
    "    \n",
    "    deciles = [int(x) for x in np.linspace(0,1,11)*q_frames_predict]\n",
    "    if count in deciles:\n",
    "        print('Processed frames: {} de {} ({}%)'.format(count, q_frames_predict, np.round(count*100/q_frames_predict, 0)))\n",
    "    count += 1\n",
    "\n",
    "# release the file pointers\n",
    "print(\"[INFO] cleaning up...\")\n",
    "vs.release()\n",
    "\n",
    "print(\"[INFO] averaging predictions...\")\n",
    "results = np.array(pred_list).mean(axis=0)\n",
    "i = np.argmax(results)\n",
    "label = lb.classes_[i]\n",
    "\n",
    "duration = datetime.now()-start_time\n",
    "print('Duracion: ', duration)\n",
    "print('El video es de ', label)"
   ]
  },
  {
   "cell_type": "code",
   "execution_count": null,
   "metadata": {},
   "outputs": [],
   "source": [
    "(np.array(pred_list)>0.5).sum() / len(pred_list)"
   ]
  },
  {
   "cell_type": "markdown",
   "metadata": {},
   "source": [
    "## Test"
   ]
  },
  {
   "cell_type": "code",
   "execution_count": 4,
   "metadata": {},
   "outputs": [],
   "source": [
    "model = load_model(path_model + 'squash_classifier.h5')\n",
    "lb = pickle.loads(open(path_model + 'label_binarizer', \"rb\").read())"
   ]
  },
  {
   "cell_type": "code",
   "execution_count": 6,
   "metadata": {},
   "outputs": [
    {
     "name": "stdout",
     "output_type": "stream",
     "text": [
      "[INFO] classifying images...\n",
      "Processed images: 0 de 377 (0.0%)\n",
      "Processed images: 37 de 377 (10.0%)\n",
      "Processed images: 75 de 377 (20.0%)\n",
      "Processed images: 113 de 377 (30.0%)\n",
      "Processed images: 150 de 377 (40.0%)\n",
      "Processed images: 188 de 377 (50.0%)\n",
      "Processed images: 226 de 377 (60.0%)\n",
      "Processed images: 263 de 377 (70.0%)\n",
      "Processed images: 301 de 377 (80.0%)\n",
      "Processed images: 339 de 377 (90.0%)\n"
     ]
    }
   ],
   "source": [
    "imagePaths = list(paths.list_images(path_dataset + 'fotos_test'))\n",
    "image_count = len(imagePaths)\n",
    "\n",
    "mean = np.array([123.68, 116.779, 103.939][::1], dtype=\"float32\")\n",
    "count = 0\n",
    "\n",
    "images = []\n",
    "pred_list = []\n",
    "\n",
    "print(\"[INFO] classifying images...\")\n",
    "for imagePath in imagePaths:\n",
    "\n",
    "    # Convert frame from BGR to RGB, resize the frame to a fixed 224x224, and then\n",
    "    # perform mean subtraction\n",
    "    image = cv2.imread(imagePath)\n",
    "    image = cv2.cvtColor(image, cv2.COLOR_BGR2RGB)\n",
    "    image = cv2.resize(image, (224, 224)).astype(\"float32\")\n",
    "    image -= mean\n",
    "    images.append(image)\n",
    "\n",
    "    # Make predictions on the frame and then update the predictions list\n",
    "    # expand_dims con axis=0 agrega la dimension channels_first\n",
    "    preds = model.predict(np.expand_dims(image, axis=0))[0]\n",
    "    i = int(np.squeeze(preds)>0.5)\n",
    "    label = lb.classes_[i]\n",
    "    pred_list.append(label)\n",
    "    \n",
    "    deciles = [int(x) for x in np.linspace(0,1,11)*image_count]\n",
    "    if count in deciles:\n",
    "        print('Processed images: {} de {} ({}%)'.format(count, image_count, np.round(count*100/image_count, 0)))\n",
    "    count += 1"
   ]
  },
  {
   "cell_type": "code",
   "execution_count": 14,
   "metadata": {},
   "outputs": [
    {
     "name": "stdout",
     "output_type": "stream",
     "text": [
      "Test Accuracy:  87.0\n"
     ]
    }
   ],
   "source": [
    "print('Test Accuracy: ', np.round((pd.Series(pred_list) == 'squash').sum()/len(pred_list)*100,2))"
   ]
  },
  {
   "cell_type": "code",
   "execution_count": null,
   "metadata": {},
   "outputs": [],
   "source": [
    "## Check misclassified images\n",
    "for i in range(len(images)):\n",
    "    img = images[i]\n",
    "    label = pred_list[i]\n",
    "    if label == 'no_squash':\n",
    "        cv2.imshow('Mal clasificada', img)\n",
    "\n",
    "        k = cv2.waitKey(1) # Parametriza la cantidad de milisegundos que muestra la foto\n",
    "        if k == 27: # si se apreta la tecla ESC\n",
    "            break\n",
    "\n",
    "cv2.destroyAllWindows()"
   ]
  },
  {
   "cell_type": "code",
   "execution_count": null,
   "metadata": {},
   "outputs": [],
   "source": []
  }
 ],
 "metadata": {
  "kernelspec": {
   "display_name": "Python 3",
   "language": "python",
   "name": "python3"
  },
  "language_info": {
   "codemirror_mode": {
    "name": "ipython",
    "version": 3
   },
   "file_extension": ".py",
   "mimetype": "text/x-python",
   "name": "python",
   "nbconvert_exporter": "python",
   "pygments_lexer": "ipython3",
   "version": "3.7.7"
  },
  "toc": {
   "base_numbering": 1,
   "nav_menu": {},
   "number_sections": true,
   "sideBar": true,
   "skip_h1_title": false,
   "title_cell": "Contenidos",
   "title_sidebar": "Contenidos",
   "toc_cell": false,
   "toc_position": {
    "height": "calc(100% - 180px)",
    "left": "10px",
    "top": "150px",
    "width": "303.542px"
   },
   "toc_section_display": true,
   "toc_window_display": true
  }
 },
 "nbformat": 4,
 "nbformat_minor": 2
}
