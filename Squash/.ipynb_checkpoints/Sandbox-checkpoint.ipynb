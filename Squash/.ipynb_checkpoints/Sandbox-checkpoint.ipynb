{
 "cells": [
  {
   "cell_type": "code",
   "execution_count": 1,
   "metadata": {},
   "outputs": [],
   "source": [
    "import cv2\n",
    "import numpy as np"
   ]
  },
  {
   "cell_type": "code",
   "execution_count": 2,
   "metadata": {},
   "outputs": [],
   "source": [
    "path_repo = 'C:/Users/fabri/Documents/GitHub/LudisAI/Squash/'\n",
    "input_video = path_repo + 'squash-trim.avi'"
   ]
  },
  {
   "cell_type": "code",
   "execution_count": 6,
   "metadata": {},
   "outputs": [],
   "source": [
    "vs = cv2.VideoCapture(input_video)\n",
    "q_frames = int(vs.get(cv2.CAP_PROP_FRAME_COUNT))\n",
    "\n",
    "frames_predict = np.random.choice(range(1, q_frames), size=int(q_frames*0.25), replace=False)"
   ]
  },
  {
   "cell_type": "code",
   "execution_count": 7,
   "metadata": {},
   "outputs": [],
   "source": [
    "for img in frames_predict:\n",
    "    vs.set(1, img)\n",
    "    ret, frame = vs.read()\n",
    "    if ret:\n",
    "        \n",
    "        #frame = cv2.cvtColor(frame, cv2.COLOR_BGR2RGB)\n",
    "        #frame = cv2.resize(frame, (224, 224)).astype(\"float32\")\n",
    "        cv2.imshow('prueba', frame)\n",
    "\n",
    "        #cv2.imshow(\"Output\", output)\n",
    "        key = cv2.waitKey(1) & 0xFF\n",
    "\n",
    "        # if the `q` key was pressed, break from the loop\n",
    "        if key == ord(\"q\"):\n",
    "            break\n",
    "        \n",
    "vs.release()\n",
    "cv2.destroyAllWindows()"
   ]
  },
  {
   "cell_type": "code",
   "execution_count": null,
   "metadata": {},
   "outputs": [],
   "source": [
    "start_time = datetime.now()\n",
    "\n",
    "# load the trained model and label binarizer from disk\n",
    "print(\"[INFO] loading model and label binarizer...\")\n",
    "model = load_model(path_model + 'sports_classifier')\n",
    "lb = pickle.loads(open(path_model + 'label_binarizer', \"rb\").read())\n",
    "\n",
    "# initialize the image mean for mean subtraction along with the\n",
    "# predictions queue\n",
    "mean = np.array([123.68, 116.779, 103.939][::1], dtype=\"float32\")\n",
    "\n",
    "# initialize the video stream, pointer to output video file, and\n",
    "# frame dimensions\n",
    "vs = cv2.VideoCapture(input_video)\n",
    "\n",
    "q_frames = int(vs.get(cv2.CAP_PROP_FRAME_COUNT))\n",
    "frames_predict = np.random.choice(range(1, q_frames), size=int(q_frames*0.25), replace=False)\n",
    "\n",
    "pred_list = []\n",
    "\n",
    "# loop over frames from the video file stream\n",
    "print(\"[INFO] classifying video...\")\n",
    "for frame2read in frames_predict:\n",
    "    # Set video frame to read\n",
    "    vs.set(1, frame2read)\n",
    "    \n",
    "    # Read the next frame from the file\n",
    "    (grabbed, frame) = vs.read()\n",
    "\n",
    "    # Convert frame from BGR to RGB, resize the frame to a fixed 224x224, and then\n",
    "    # perform mean subtraction\n",
    "    frame = cv2.cvtColor(frame, cv2.COLOR_BGR2RGB)\n",
    "    frame = cv2.resize(frame, (224, 224)).astype(\"float32\")\n",
    "    frame -= mean\n",
    "\n",
    "    # Make predictions on the frame and then update the predictions list\n",
    "    preds = model.predict(np.expand_dims(frame, axis=0))[0]\n",
    "    pred_list.append(preds)\n",
    "\n",
    "# release the file pointers\n",
    "print(\"[INFO] cleaning up...\")\n",
    "vs.release()\n",
    "\n",
    "print(\"[INFO] averaging predictions...\")\n",
    "results = np.array(pred_list).mean(axis=0)\n",
    "i = np.argmax(results)\n",
    "label = lb.classes_[i]\n",
    "\n",
    "duration = datetime.now()-start_time\n",
    "print('Duracion: ', duration)\n",
    "print('El video es de ', label)"
   ]
  }
 ],
 "metadata": {
  "kernelspec": {
   "display_name": "Python 3",
   "language": "python",
   "name": "python3"
  },
  "language_info": {
   "codemirror_mode": {
    "name": "ipython",
    "version": 3
   },
   "file_extension": ".py",
   "mimetype": "text/x-python",
   "name": "python",
   "nbconvert_exporter": "python",
   "pygments_lexer": "ipython3",
   "version": "3.7.7"
  },
  "toc": {
   "base_numbering": 1,
   "nav_menu": {},
   "number_sections": true,
   "sideBar": true,
   "skip_h1_title": false,
   "title_cell": "Table of Contents",
   "title_sidebar": "Contents",
   "toc_cell": false,
   "toc_position": {},
   "toc_section_display": true,
   "toc_window_display": false
  }
 },
 "nbformat": 4,
 "nbformat_minor": 4
}
